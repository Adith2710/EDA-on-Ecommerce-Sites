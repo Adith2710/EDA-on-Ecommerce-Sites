{
 "cells": [
  {
   "cell_type": "code",
   "execution_count": 1,
   "metadata": {},
   "outputs": [],
   "source": [
    "import requests\n",
    "import numpy as np\n",
    "import pandas as pd\n",
    "from bs4 import BeautifulSoup\n",
    "import uuid\n",
    "\n",
    "import json\n",
    "import urllib.parse as urlparse\n",
    "from urllib.parse import parse_qs\n",
    "from urllib.parse import urlparse\n",
    "from urllib.request import urlopen\n",
    "import time\n",
    "import re"
   ]
  },
  {
   "cell_type": "code",
   "execution_count": 2,
   "metadata": {},
   "outputs": [],
   "source": [
    "my_header = {\"User-Agent\": \"Mozilla/5.0 (Windows NT 10.0; Win64; x64) AppleWebKit/537.36\"\n",
    "              + \"(KHTML, like Gecko) Chrome/86.0.4240.198 Safari/537.36\"}\n",
    "\n",
    "querystring = {\"page\":\"20\", 'product_url':'https://www.walmart.com/search/?query=watch'}\n",
    "item_url=[]\n",
    "brand_name=[]\n",
    "prod_name=[]\n",
    "price=[]\n",
    "free_delivery=[]\n",
    "seller=[]\n",
    "avg_rating=[]\n",
    "additional_tags=[]\n",
    "total_pages=int(querystring[\"page\"])\n",
    "\n",
    "avg_rating_per_page=[]\n",
    "\n",
    "for i in range(1,total_pages+1):\n",
    "\n",
    "    url='https://www.walmart.com/search/?page='+ str(i) +'?query=watch'\n",
    "    r= requests.get(querystring['product_url'], headers= my_header)\n",
    "\n",
    "    if r.status_code==200:\n",
    "        soup_main= BeautifulSoup(r.text, parser='html.parser')\n",
    "        #print(soup_main)\n",
    "        summary=soup_main.find('div', {'class':'search-product-result', 'id':'searchProductResult'})\n",
    "        product_list= summary.find_all('li')\n",
    "        for prod in product_list:\n",
    "            try:\n",
    "                item_url.append(prod.find('a', {\"class\":\"product-title-link line-clamp line-clamp-2 truncate-title\"}).get('href'))\n",
    "                brand_name.append(prod.find('a', {\"class\":\"product-title-link line-clamp line-clamp-2 truncate-title\"}).span.text)\n",
    "                #getting product name\n",
    "                prod_name.append(prod.find('a', {\"class\":\"product-title-link line-clamp line-clamp-2 truncate-title\"}).span.nextSibling.text)\n",
    "                #getting price\n",
    "                price.append(prod.find('span',{'class':'price-main-block'}).span.span.text.split('$')[1])\n",
    "                #average rating\n",
    "                avg_rating.append(float(prod.find('span',{'class':'visuallyhidden seo-avg-rating'}).text))\n",
    "                \n",
    "                try:\n",
    "                    #getting seller name if any\n",
    "                    seller.append(prod.find('span',{'class':\"marketplace-sold-by-company-name\"}).text)\n",
    "                except AttributeError:\n",
    "                    seller.append(\"NA\")\n",
    "                \n",
    "                #checking if there is free delivery\n",
    "                if(prod.find('div',{'class':'free-shipping'})):\n",
    "                        free_delivery.append('True')\n",
    "\n",
    "                else:\n",
    "                    free_delivery.append('False')\n",
    "                #adding additional tags such as \"best seller\", \"Reduced price\" etc\n",
    "                try:\n",
    "                    additional_tags.append(prod.find('span',{'class':'flag-angle__content'}).text)\n",
    "                except:\n",
    "                    additional_tags.append(\"NA\")\n",
    "            except:\n",
    "                pass\n",
    "        avg_rating_per_page.append(np.mean(np.array(avg_rating)))\n",
    "                    \n",
    "    else:\n",
    "        print(\"Error-\",r.status_code)\n"
   ]
  },
  {
   "cell_type": "code",
   "execution_count": 3,
   "metadata": {},
   "outputs": [],
   "source": [
    "product_code=[u.split('/')[-1] for u in item_url]\n"
   ]
  },
  {
   "cell_type": "code",
   "execution_count": 4,
   "metadata": {},
   "outputs": [
    {
     "name": "stdout",
     "output_type": "stream",
     "text": [
      "200\n",
      "200\n",
      "200\n",
      "200\n",
      "200\n",
      "200\n",
      "200\n",
      "20\n"
     ]
    }
   ],
   "source": [
    "print(len(item_url))\n",
    "print(len(brand_name))\n",
    "print(len(price))\n",
    "print(len(free_delivery))\n",
    "print(len(seller))\n",
    "print(len(avg_rating))\n",
    "print(len(additional_tags))\n",
    "print(len(avg_rating_per_page))"
   ]
  },
  {
   "cell_type": "code",
   "execution_count": 5,
   "metadata": {},
   "outputs": [
    {
     "data": {
      "text/html": [
       "<div>\n",
       "<style scoped>\n",
       "    .dataframe tbody tr th:only-of-type {\n",
       "        vertical-align: middle;\n",
       "    }\n",
       "\n",
       "    .dataframe tbody tr th {\n",
       "        vertical-align: top;\n",
       "    }\n",
       "\n",
       "    .dataframe thead th {\n",
       "        text-align: right;\n",
       "    }\n",
       "</style>\n",
       "<table border=\"1\" class=\"dataframe\">\n",
       "  <thead>\n",
       "    <tr style=\"text-align: right;\">\n",
       "      <th></th>\n",
       "      <th>Brand Name</th>\n",
       "      <th>Product Name</th>\n",
       "      <th>Product Price ($)</th>\n",
       "      <th>Average Rating</th>\n",
       "      <th>Availability of Free Delivery</th>\n",
       "      <th>Seller Name</th>\n",
       "      <th>Additional Tags</th>\n",
       "    </tr>\n",
       "  </thead>\n",
       "  <tbody>\n",
       "    <tr>\n",
       "      <th>0</th>\n",
       "      <td>iTouch</td>\n",
       "      <td>iTouch Sport Silicone Strap Smartwatches with ...</td>\n",
       "      <td>59.99</td>\n",
       "      <td>4.4</td>\n",
       "      <td>True</td>\n",
       "      <td>NA</td>\n",
       "      <td>NA</td>\n",
       "    </tr>\n",
       "    <tr>\n",
       "      <th>1</th>\n",
       "      <td>Casio</td>\n",
       "      <td>Casio Women's Casual Classic Analog Watches LQ139</td>\n",
       "      <td>10.98</td>\n",
       "      <td>4.0</td>\n",
       "      <td>False</td>\n",
       "      <td>NA</td>\n",
       "      <td>Rollback</td>\n",
       "    </tr>\n",
       "    <tr>\n",
       "      <th>2</th>\n",
       "      <td>iTouch</td>\n",
       "      <td>iTouch Slim Fitness Trackers with Interchangea...</td>\n",
       "      <td>29.99</td>\n",
       "      <td>4.2</td>\n",
       "      <td>False</td>\n",
       "      <td>NA</td>\n",
       "      <td>NA</td>\n",
       "    </tr>\n",
       "    <tr>\n",
       "      <th>3</th>\n",
       "      <td>iTouch</td>\n",
       "      <td>iTouch Sport 2 Smartwatch Fitness Tracker Body...</td>\n",
       "      <td>59.99</td>\n",
       "      <td>4.6</td>\n",
       "      <td>True</td>\n",
       "      <td>NA</td>\n",
       "      <td>NA</td>\n",
       "    </tr>\n",
       "    <tr>\n",
       "      <th>4</th>\n",
       "      <td>iTouch</td>\n",
       "      <td>iTouch Air 3 Smartwatch Fitness Tracker Heart ...</td>\n",
       "      <td>59.99</td>\n",
       "      <td>4.7</td>\n",
       "      <td>True</td>\n",
       "      <td>NA</td>\n",
       "      <td>NA</td>\n",
       "    </tr>\n",
       "    <tr>\n",
       "      <th>5</th>\n",
       "      <td>Timex</td>\n",
       "      <td>Men's Ironman Classic 30 Oversized Watch, Blac...</td>\n",
       "      <td>35.70</td>\n",
       "      <td>4.6</td>\n",
       "      <td>True</td>\n",
       "      <td>InfoSales</td>\n",
       "      <td>NA</td>\n",
       "    </tr>\n",
       "    <tr>\n",
       "      <th>6</th>\n",
       "      <td>Casio</td>\n",
       "      <td>Casio Men's Classic Resin Strap Sport Watch F9...</td>\n",
       "      <td>12.95</td>\n",
       "      <td>4.1</td>\n",
       "      <td>True</td>\n",
       "      <td>NSA ELECTRONICS</td>\n",
       "      <td>Best Seller</td>\n",
       "    </tr>\n",
       "    <tr>\n",
       "      <th>7</th>\n",
       "      <td>Geneva</td>\n",
       "      <td>Elecmall Stylish Stainless Steel Analog Quartz...</td>\n",
       "      <td>6.99</td>\n",
       "      <td>3.4</td>\n",
       "      <td>False</td>\n",
       "      <td>fulfilled by Walmart</td>\n",
       "      <td>Clearance</td>\n",
       "    </tr>\n",
       "    <tr>\n",
       "      <th>8</th>\n",
       "      <td>Zodaca</td>\n",
       "      <td>White Unisex Men Women Silicone Jelly Quartz A...</td>\n",
       "      <td>6.99</td>\n",
       "      <td>3.8</td>\n",
       "      <td>True</td>\n",
       "      <td>eForCity</td>\n",
       "      <td>NA</td>\n",
       "    </tr>\n",
       "    <tr>\n",
       "      <th>9</th>\n",
       "      <td>Casio</td>\n",
       "      <td>Classic Analog Water Resistant Watch w/ Resin ...</td>\n",
       "      <td>11.99</td>\n",
       "      <td>4.5</td>\n",
       "      <td>True</td>\n",
       "      <td>AreaTrend</td>\n",
       "      <td>Reduced Price</td>\n",
       "    </tr>\n",
       "  </tbody>\n",
       "</table>\n",
       "</div>"
      ],
      "text/plain": [
       "  Brand Name                                       Product Name  \\\n",
       "0     iTouch  iTouch Sport Silicone Strap Smartwatches with ...   \n",
       "1      Casio  Casio Women's Casual Classic Analog Watches LQ139   \n",
       "2     iTouch  iTouch Slim Fitness Trackers with Interchangea...   \n",
       "3     iTouch  iTouch Sport 2 Smartwatch Fitness Tracker Body...   \n",
       "4     iTouch  iTouch Air 3 Smartwatch Fitness Tracker Heart ...   \n",
       "5      Timex  Men's Ironman Classic 30 Oversized Watch, Blac...   \n",
       "6      Casio  Casio Men's Classic Resin Strap Sport Watch F9...   \n",
       "7     Geneva  Elecmall Stylish Stainless Steel Analog Quartz...   \n",
       "8     Zodaca  White Unisex Men Women Silicone Jelly Quartz A...   \n",
       "9      Casio  Classic Analog Water Resistant Watch w/ Resin ...   \n",
       "\n",
       "  Product Price ($)  Average Rating Availability of Free Delivery  \\\n",
       "0             59.99             4.4                          True   \n",
       "1             10.98             4.0                         False   \n",
       "2             29.99             4.2                         False   \n",
       "3             59.99             4.6                          True   \n",
       "4             59.99             4.7                          True   \n",
       "5             35.70             4.6                          True   \n",
       "6             12.95             4.1                          True   \n",
       "7              6.99             3.4                         False   \n",
       "8              6.99             3.8                          True   \n",
       "9             11.99             4.5                          True   \n",
       "\n",
       "            Seller Name Additional Tags  \n",
       "0                    NA              NA  \n",
       "1                    NA        Rollback  \n",
       "2                    NA              NA  \n",
       "3                    NA              NA  \n",
       "4                    NA              NA  \n",
       "5             InfoSales              NA  \n",
       "6       NSA ELECTRONICS     Best Seller  \n",
       "7  fulfilled by Walmart       Clearance  \n",
       "8              eForCity              NA  \n",
       "9             AreaTrend   Reduced Price  "
      ]
     },
     "execution_count": 5,
     "metadata": {},
     "output_type": "execute_result"
    }
   ],
   "source": [
    "item_dict={}\n",
    "item_dict[\"Brand Name\"]= brand_name\n",
    "item_dict[\"Product Name\"]= prod_name\n",
    "item_dict[\"Product Price ($)\"]= price\n",
    "item_dict[\"Average Rating\"]= avg_rating\n",
    "item_dict[\"Availability of Free Delivery\"]= free_delivery\n",
    "item_dict[\"Seller Name\"]= seller\n",
    "item_dict[\"Additional Tags\"]= additional_tags\n",
    "\n",
    "df_products=pd.DataFrame(item_dict)\n",
    "df_products.head(10)"
   ]
  },
  {
   "cell_type": "code",
   "execution_count": 6,
   "metadata": {},
   "outputs": [],
   "source": [
    "def preprocessor_final2(text):\n",
    "        if isinstance((text), (str)):\n",
    "            text = re.sub('<[^>]*>', ' ', text)\n",
    "                #text = re.sub('[\\W]+', ' ', text.lower())\n",
    "            return text\n",
    "        if isinstance((text), (list)):\n",
    "            return_list = []\n",
    "            for i in range(len(text)):\n",
    "                temp_text = re.sub('<[^>]*>', '', text[i])\n",
    "                temp_text = re.sub('[\\W]+', '', temp_text.lower())\n",
    "                return_list.append(temp_text)\n",
    "            return(return_list)"
   ]
  },
  {
   "cell_type": "code",
   "execution_count": 7,
   "metadata": {},
   "outputs": [],
   "source": [
    "reviews_dict={}\n",
    "reviews_list=[]\n",
    "reviews=[]\n",
    "\n",
    "for prod_code in product_code:\n",
    "    total_review_count=0\n",
    "\n",
    "    item_url='https://www.walmart.com/reviews/product/'+ prod_code\n",
    "    \n",
    "    req= requests.get(item_url,headers=my_header)\n",
    "    if req.status_code==200:\n",
    "            prod_soup=BeautifulSoup(urlopen(item_url),parser=\"html.parser\")\n",
    "            review_list=prod_soup.findAll('div',{'class':'Grid ReviewList-content'})\n",
    "            total_review_count+=len(review_list)\n",
    "            averageOverallRating = prod_soup.find('div', {'class',\"wyr-product-review-rounded-overall\"}).get_text()\n",
    "            \n",
    "            for i in range(len(review_list)):\n",
    "                    temp_dict = {}\n",
    "                    temp_dict[\"totalReviewCount\"] = total_review_count\n",
    "                    temp_dict[\"product_id\"]=prod_code\n",
    "                    temp_dict[\"average_rating\"]=averageOverallRating\n",
    "                    try:\n",
    "                        temp_dict[\"full_text\"] = preprocessor_final2(str(review_list[i].find_all('div',{'class','review-text'})[0])).strip()\n",
    "                    except AttributeError: \n",
    "                        temp_dict[\"full_text\"] = preprocessor_final2(str(review_list[i].find_all('div',{'class','review-body'})[0])).strip()\n",
    "                    except:\n",
    "                        temp_dict[\"full_text\"]='NA'\n",
    "                    \n",
    "                    \n",
    "                    try:\n",
    "                        temp_dict['title'] = preprocessor_final2(str(review_list[i].find_all('h3', {'class', 'review-title font-bold'})[0])).strip()\n",
    "                    \n",
    "                    except:\n",
    "                        temp_dict['title'] = 'NA'\n",
    "                    \n",
    "                    try:\n",
    "                        temp_dict['review_date'] = preprocessor_final2(str(review_list[i].find('div',{'class', 'review-date'}).find('span', {'class','review-date-submissionTime'}))).strip()                 \n",
    "                    except:\n",
    "                        temp_dict['review_date']='NA'\n",
    "                    \n",
    "                    try:\n",
    "                        if review_list[i].find('div',{'class', 'review-date'}).find('div',{'class':'verified'}).get_text() == 'Verified purchase':\n",
    "                            temp_dict[\"Verified\"]=\"True\"\n",
    "                        \n",
    "                        else:\n",
    "                            temp_dict[\"Verified\"]=\"False\"\n",
    "                    except:\n",
    "                        pass\n",
    "                    val=review_list[i].find_all('span', {'class','yes-no-count underline'})\n",
    "                    temp_dict[\"Helpful-Yes\"]=val[0].text\n",
    "                    temp_dict[\"Helpful-No\"]=val[1].text\n",
    "                    reviews_list.append(temp_dict)\n",
    "    else:\n",
    "            print(\"Error-\",req.status_code)\n",
    "    reviews_dict[\"reviews\"] = reviews_list "
   ]
  },
  {
   "cell_type": "code",
   "execution_count": 8,
   "metadata": {},
   "outputs": [
    {
     "data": {
      "text/html": [
       "<div>\n",
       "<style scoped>\n",
       "    .dataframe tbody tr th:only-of-type {\n",
       "        vertical-align: middle;\n",
       "    }\n",
       "\n",
       "    .dataframe tbody tr th {\n",
       "        vertical-align: top;\n",
       "    }\n",
       "\n",
       "    .dataframe thead th {\n",
       "        text-align: right;\n",
       "    }\n",
       "</style>\n",
       "<table border=\"1\" class=\"dataframe\">\n",
       "  <thead>\n",
       "    <tr style=\"text-align: right;\">\n",
       "      <th></th>\n",
       "      <th>totalReviewCount</th>\n",
       "      <th>average_rating</th>\n",
       "      <th>full_text</th>\n",
       "      <th>title</th>\n",
       "      <th>review_date</th>\n",
       "      <th>Verified</th>\n",
       "      <th>Helpful-Yes</th>\n",
       "      <th>Helpful-No</th>\n",
       "    </tr>\n",
       "    <tr>\n",
       "      <th>product_id</th>\n",
       "      <th></th>\n",
       "      <th></th>\n",
       "      <th></th>\n",
       "      <th></th>\n",
       "      <th></th>\n",
       "      <th></th>\n",
       "      <th></th>\n",
       "      <th></th>\n",
       "    </tr>\n",
       "  </thead>\n",
       "  <tbody>\n",
       "    <tr>\n",
       "      <th>173019570</th>\n",
       "      <td>20</td>\n",
       "      <td>4.4</td>\n",
       "      <td>It's really nice and easy to understand. It te...</td>\n",
       "      <td>The best smart watch I've had!</td>\n",
       "      <td>December 9, 2020</td>\n",
       "      <td>True</td>\n",
       "      <td>0</td>\n",
       "      <td>0</td>\n",
       "    </tr>\n",
       "    <tr>\n",
       "      <th>173019570</th>\n",
       "      <td>20</td>\n",
       "      <td>4.4</td>\n",
       "      <td>I shopped around for a smart watch online not ...</td>\n",
       "      <td>Love my watches!</td>\n",
       "      <td>August 24, 2020</td>\n",
       "      <td>True</td>\n",
       "      <td>0</td>\n",
       "      <td>0</td>\n",
       "    </tr>\n",
       "    <tr>\n",
       "      <th>173019570</th>\n",
       "      <td>20</td>\n",
       "      <td>4.4</td>\n",
       "      <td>Pretty good watch. Not and iwatch of course so...</td>\n",
       "      <td>Very nice watch</td>\n",
       "      <td>September 30, 2020</td>\n",
       "      <td>True</td>\n",
       "      <td>0</td>\n",
       "      <td>0</td>\n",
       "    </tr>\n",
       "    <tr>\n",
       "      <th>173019570</th>\n",
       "      <td>20</td>\n",
       "      <td>4.4</td>\n",
       "      <td>If you want to keep up with step , but are not...</td>\n",
       "      <td>Keeping Up!</td>\n",
       "      <td>October 15, 2020</td>\n",
       "      <td>True</td>\n",
       "      <td>0</td>\n",
       "      <td>0</td>\n",
       "    </tr>\n",
       "    <tr>\n",
       "      <th>173019570</th>\n",
       "      <td>20</td>\n",
       "      <td>4.4</td>\n",
       "      <td>I am loving this watch! It is so clean, simple...</td>\n",
       "      <td>Chic &amp;amp; Cool</td>\n",
       "      <td>April 9, 2020</td>\n",
       "      <td>True</td>\n",
       "      <td>0</td>\n",
       "      <td>0</td>\n",
       "    </tr>\n",
       "  </tbody>\n",
       "</table>\n",
       "</div>"
      ],
      "text/plain": [
       "            totalReviewCount average_rating  \\\n",
       "product_id                                    \n",
       "173019570                 20            4.4   \n",
       "173019570                 20            4.4   \n",
       "173019570                 20            4.4   \n",
       "173019570                 20            4.4   \n",
       "173019570                 20            4.4   \n",
       "\n",
       "                                                    full_text  \\\n",
       "product_id                                                      \n",
       "173019570   It's really nice and easy to understand. It te...   \n",
       "173019570   I shopped around for a smart watch online not ...   \n",
       "173019570   Pretty good watch. Not and iwatch of course so...   \n",
       "173019570   If you want to keep up with step , but are not...   \n",
       "173019570   I am loving this watch! It is so clean, simple...   \n",
       "\n",
       "                                     title         review_date Verified  \\\n",
       "product_id                                                                \n",
       "173019570   The best smart watch I've had!    December 9, 2020     True   \n",
       "173019570                 Love my watches!     August 24, 2020     True   \n",
       "173019570                  Very nice watch  September 30, 2020     True   \n",
       "173019570                      Keeping Up!    October 15, 2020     True   \n",
       "173019570                  Chic &amp; Cool       April 9, 2020     True   \n",
       "\n",
       "           Helpful-Yes Helpful-No  \n",
       "product_id                         \n",
       "173019570            0          0  \n",
       "173019570            0          0  \n",
       "173019570            0          0  \n",
       "173019570            0          0  \n",
       "173019570            0          0  "
      ]
     },
     "execution_count": 8,
     "metadata": {},
     "output_type": "execute_result"
    }
   ],
   "source": [
    "df = pd.DataFrame(reviews_dict[\"reviews\"])\n",
    "df=df.set_index(['product_id'])\n",
    "df.head()"
   ]
  },
  {
   "cell_type": "code",
   "execution_count": 9,
   "metadata": {},
   "outputs": [
    {
     "data": {
      "text/plain": [
       "'df_products.to_csv(\"Watches_info.csv\")\\ndf.to_csv(\"Watches_reviews.csv\")'"
      ]
     },
     "execution_count": 9,
     "metadata": {},
     "output_type": "execute_result"
    }
   ],
   "source": [
    "'''df_products.to_csv(\"Watches_info.csv\")\n",
    "df.to_csv(\"Watches_reviews.csv\")'''"
   ]
  },
  {
   "cell_type": "markdown",
   "metadata": {},
   "source": [
    "## Explatory Data Analysis"
   ]
  },
  {
   "cell_type": "markdown",
   "metadata": {},
   "source": [
    "### 1. Average Rating on each page"
   ]
  },
  {
   "cell_type": "code",
   "execution_count": 10,
   "metadata": {},
   "outputs": [
    {
     "data": {
      "text/plain": [
       "[4.2299999999999995,\n",
       " 4.23,\n",
       " 4.23,\n",
       " 4.2299999999999995,\n",
       " 4.23,\n",
       " 4.23,\n",
       " 4.23,\n",
       " 4.2299999999999995,\n",
       " 4.2299999999999995,\n",
       " 4.23,\n",
       " 4.23,\n",
       " 4.23,\n",
       " 4.23,\n",
       " 4.23,\n",
       " 4.23,\n",
       " 4.2299999999999995,\n",
       " 4.2299999999999995,\n",
       " 4.23,\n",
       " 4.23,\n",
       " 4.23]"
      ]
     },
     "execution_count": 10,
     "metadata": {},
     "output_type": "execute_result"
    }
   ],
   "source": [
    "avg_rating_per_page"
   ]
  },
  {
   "cell_type": "markdown",
   "metadata": {},
   "source": [
    " we can see that the average rating on each page is the same"
   ]
  },
  {
   "cell_type": "markdown",
   "metadata": {},
   "source": [
    "### 2. Average word count of reviews"
   ]
  },
  {
   "cell_type": "code",
   "execution_count": 11,
   "metadata": {},
   "outputs": [
    {
     "data": {
      "text/plain": [
       "63"
      ]
     },
     "execution_count": 11,
     "metadata": {},
     "output_type": "execute_result"
    }
   ],
   "source": [
    "def word_count(txt):\n",
    "    count=len(txt.split(' '))\n",
    "    return count\n",
    "\n",
    "df[\"review word count\"]=df[\"full_text\"].apply(word_count)\n",
    "average_word_count= int(np.mean(df[\"review word count\"]))\n",
    "average_word_count"
   ]
  },
  {
   "cell_type": "markdown",
   "metadata": {},
   "source": [
    "The average word count of the reviews are 62 words"
   ]
  },
  {
   "cell_type": "markdown",
   "metadata": {},
   "source": [
    "### 3. Ratio of verified purchase to total reviews"
   ]
  },
  {
   "cell_type": "code",
   "execution_count": 12,
   "metadata": {},
   "outputs": [],
   "source": [
    "df[\"Verified\"]=df[\"Verified\"].fillna(\"False\")"
   ]
  },
  {
   "cell_type": "code",
   "execution_count": 13,
   "metadata": {},
   "outputs": [],
   "source": [
    "verified_count=df[\"Verified\"][df[\"Verified\"]==\"True\"].count()"
   ]
  },
  {
   "cell_type": "code",
   "execution_count": 14,
   "metadata": {},
   "outputs": [
    {
     "data": {
      "text/plain": [
       "0.66"
      ]
     },
     "execution_count": 14,
     "metadata": {},
     "output_type": "execute_result"
    }
   ],
   "source": [
    "#ratio\n",
    "verified_count/len(df[\"Verified\"])"
   ]
  },
  {
   "cell_type": "markdown",
   "metadata": {},
   "source": [
    "the ratio of verified to total reviews is 0.62"
   ]
  },
  {
   "cell_type": "markdown",
   "metadata": {},
   "source": [
    "### 4. Average age of reviews"
   ]
  },
  {
   "cell_type": "code",
   "execution_count": 15,
   "metadata": {},
   "outputs": [],
   "source": [
    "import datetime\n",
    "df[\"review_date\"]=pd.to_datetime(df[\"review_date\"])\n",
    "date_today=pd.to_datetime(\"December 11, 2020\")"
   ]
  },
  {
   "cell_type": "code",
   "execution_count": 16,
   "metadata": {},
   "outputs": [
    {
     "data": {
      "text/html": [
       "<div>\n",
       "<style scoped>\n",
       "    .dataframe tbody tr th:only-of-type {\n",
       "        vertical-align: middle;\n",
       "    }\n",
       "\n",
       "    .dataframe tbody tr th {\n",
       "        vertical-align: top;\n",
       "    }\n",
       "\n",
       "    .dataframe thead th {\n",
       "        text-align: right;\n",
       "    }\n",
       "</style>\n",
       "<table border=\"1\" class=\"dataframe\">\n",
       "  <thead>\n",
       "    <tr style=\"text-align: right;\">\n",
       "      <th></th>\n",
       "      <th>totalReviewCount</th>\n",
       "      <th>average_rating</th>\n",
       "      <th>full_text</th>\n",
       "      <th>title</th>\n",
       "      <th>review_date</th>\n",
       "      <th>Verified</th>\n",
       "      <th>Helpful-Yes</th>\n",
       "      <th>Helpful-No</th>\n",
       "      <th>review word count</th>\n",
       "      <th>age of review</th>\n",
       "    </tr>\n",
       "    <tr>\n",
       "      <th>product_id</th>\n",
       "      <th></th>\n",
       "      <th></th>\n",
       "      <th></th>\n",
       "      <th></th>\n",
       "      <th></th>\n",
       "      <th></th>\n",
       "      <th></th>\n",
       "      <th></th>\n",
       "      <th></th>\n",
       "      <th></th>\n",
       "    </tr>\n",
       "  </thead>\n",
       "  <tbody>\n",
       "    <tr>\n",
       "      <th>173019570</th>\n",
       "      <td>20</td>\n",
       "      <td>4.4</td>\n",
       "      <td>It's really nice and easy to understand. It te...</td>\n",
       "      <td>The best smart watch I've had!</td>\n",
       "      <td>2020-12-09</td>\n",
       "      <td>True</td>\n",
       "      <td>0</td>\n",
       "      <td>0</td>\n",
       "      <td>50</td>\n",
       "      <td>2 days</td>\n",
       "    </tr>\n",
       "    <tr>\n",
       "      <th>173019570</th>\n",
       "      <td>20</td>\n",
       "      <td>4.4</td>\n",
       "      <td>I shopped around for a smart watch online not ...</td>\n",
       "      <td>Love my watches!</td>\n",
       "      <td>2020-08-24</td>\n",
       "      <td>True</td>\n",
       "      <td>0</td>\n",
       "      <td>0</td>\n",
       "      <td>219</td>\n",
       "      <td>109 days</td>\n",
       "    </tr>\n",
       "    <tr>\n",
       "      <th>173019570</th>\n",
       "      <td>20</td>\n",
       "      <td>4.4</td>\n",
       "      <td>Pretty good watch. Not and iwatch of course so...</td>\n",
       "      <td>Very nice watch</td>\n",
       "      <td>2020-09-30</td>\n",
       "      <td>True</td>\n",
       "      <td>0</td>\n",
       "      <td>0</td>\n",
       "      <td>44</td>\n",
       "      <td>72 days</td>\n",
       "    </tr>\n",
       "    <tr>\n",
       "      <th>173019570</th>\n",
       "      <td>20</td>\n",
       "      <td>4.4</td>\n",
       "      <td>If you want to keep up with step , but are not...</td>\n",
       "      <td>Keeping Up!</td>\n",
       "      <td>2020-10-15</td>\n",
       "      <td>True</td>\n",
       "      <td>0</td>\n",
       "      <td>0</td>\n",
       "      <td>42</td>\n",
       "      <td>57 days</td>\n",
       "    </tr>\n",
       "    <tr>\n",
       "      <th>173019570</th>\n",
       "      <td>20</td>\n",
       "      <td>4.4</td>\n",
       "      <td>I am loving this watch! It is so clean, simple...</td>\n",
       "      <td>Chic &amp;amp; Cool</td>\n",
       "      <td>2020-04-09</td>\n",
       "      <td>True</td>\n",
       "      <td>0</td>\n",
       "      <td>0</td>\n",
       "      <td>77</td>\n",
       "      <td>246 days</td>\n",
       "    </tr>\n",
       "  </tbody>\n",
       "</table>\n",
       "</div>"
      ],
      "text/plain": [
       "            totalReviewCount average_rating  \\\n",
       "product_id                                    \n",
       "173019570                 20            4.4   \n",
       "173019570                 20            4.4   \n",
       "173019570                 20            4.4   \n",
       "173019570                 20            4.4   \n",
       "173019570                 20            4.4   \n",
       "\n",
       "                                                    full_text  \\\n",
       "product_id                                                      \n",
       "173019570   It's really nice and easy to understand. It te...   \n",
       "173019570   I shopped around for a smart watch online not ...   \n",
       "173019570   Pretty good watch. Not and iwatch of course so...   \n",
       "173019570   If you want to keep up with step , but are not...   \n",
       "173019570   I am loving this watch! It is so clean, simple...   \n",
       "\n",
       "                                     title review_date Verified Helpful-Yes  \\\n",
       "product_id                                                                    \n",
       "173019570   The best smart watch I've had!  2020-12-09     True           0   \n",
       "173019570                 Love my watches!  2020-08-24     True           0   \n",
       "173019570                  Very nice watch  2020-09-30     True           0   \n",
       "173019570                      Keeping Up!  2020-10-15     True           0   \n",
       "173019570                  Chic &amp; Cool  2020-04-09     True           0   \n",
       "\n",
       "           Helpful-No  review word count age of review  \n",
       "product_id                                              \n",
       "173019570           0                 50        2 days  \n",
       "173019570           0                219      109 days  \n",
       "173019570           0                 44       72 days  \n",
       "173019570           0                 42       57 days  \n",
       "173019570           0                 77      246 days  "
      ]
     },
     "execution_count": 16,
     "metadata": {},
     "output_type": "execute_result"
    }
   ],
   "source": [
    "df[\"age of review\"]= date_today-df[\"review_date\"]\n",
    "df.head()"
   ]
  },
  {
   "cell_type": "code",
   "execution_count": 17,
   "metadata": {},
   "outputs": [
    {
     "data": {
      "text/plain": [
       "484.76"
      ]
     },
     "execution_count": 17,
     "metadata": {},
     "output_type": "execute_result"
    }
   ],
   "source": [
    "np.mean(df[\"age of review\"].dt.days)"
   ]
  },
  {
   "cell_type": "markdown",
   "metadata": {},
   "source": [
    "average age of a review is around 484 days"
   ]
  },
  {
   "cell_type": "markdown",
   "metadata": {},
   "source": [
    "### 5. Count of reviews being helpful vs not helpful"
   ]
  },
  {
   "cell_type": "code",
   "execution_count": 18,
   "metadata": {},
   "outputs": [
    {
     "data": {
      "text/plain": [
       "6020"
      ]
     },
     "execution_count": 18,
     "metadata": {},
     "output_type": "execute_result"
    }
   ],
   "source": [
    "df[\"Helpful-Yes\"]=pd.to_numeric(df[\"Helpful-Yes\"])\n",
    "sum(df[\"Helpful-Yes\"])"
   ]
  },
  {
   "cell_type": "code",
   "execution_count": 19,
   "metadata": {},
   "outputs": [
    {
     "data": {
      "text/plain": [
       "980"
      ]
     },
     "execution_count": 19,
     "metadata": {},
     "output_type": "execute_result"
    }
   ],
   "source": [
    "df[\"Helpful-No\"]=pd.to_numeric(df[\"Helpful-No\"])\n",
    "sum(df[\"Helpful-No\"])"
   ]
  }
 ],
 "metadata": {
  "kernelspec": {
   "display_name": "Python 3",
   "language": "python",
   "name": "python3"
  },
  "language_info": {
   "codemirror_mode": {
    "name": "ipython",
    "version": 3
   },
   "file_extension": ".py",
   "mimetype": "text/x-python",
   "name": "python",
   "nbconvert_exporter": "python",
   "pygments_lexer": "ipython3",
   "version": "3.8.3"
  }
 },
 "nbformat": 4,
 "nbformat_minor": 4
}
